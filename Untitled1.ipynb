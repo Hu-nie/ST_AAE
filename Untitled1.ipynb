{
 "cells": [
  {
   "cell_type": "code",
   "execution_count": 1,
   "metadata": {},
   "outputs": [],
   "source": [
    "import torch\n",
    "import numpy as np\n",
    "import os\n",
    "from model import *\n",
    "from utils import *\n",
    "\n",
    "np.random.seed(0)\n",
    "\n",
    "def data_load():\n",
    "    #% Data\n",
    "    dataset_file = 'data/V_228.csv'\n",
    "    # Data generation\n",
    "    Data = np.loadtxt(dataset_file, delimiter=\",\",skiprows=1)\n",
    "    No = len(Data)\n",
    "    Dim = len(Data[0,:])\n",
    "    train_rate = 0.8\n",
    "    p_miss = 0.1\n",
    "    \n",
    "    Min_Val = np.zeros(Dim)\n",
    "    Max_Val = np.zeros(Dim)\n",
    "\n",
    "    for i in range(Dim):\n",
    "        Min_Val[i] = np.min(Data[:,i])\n",
    "        Data[:,i] = Data[:,i] - np.min(Data[:,i])\n",
    "        Max_Val[i] = np.max(Data[:,i])\n",
    "        Data[:,i] = Data[:,i] / (np.max(Data[:,i]) + 1e-6)  \n",
    "\n",
    "    # Missing introducing\n",
    "    p_miss_vec = p_miss * np.ones((Dim,1)) \n",
    "    \n",
    "    Missing = np.zeros((No,Dim))\n",
    "\n",
    "    for i in range(Dim):\n",
    "        A = np.random.uniform(0., 1., size = [len(Data),])\n",
    "        B = A > p_miss_vec[i]\n",
    "        Missing[:,i] = 1.*B\n",
    "\n",
    "\n",
    "    # Train Test Division    \n",
    "    \n",
    "    idx = np.random.permutation(No)\n",
    "\n",
    "    Train_No = int(No * train_rate)\n",
    "    Test_No = No - Train_No\n",
    "\n",
    "    # Train / Test Features\n",
    "    trainX = Data[:Train_No,:]\n",
    "    testX = Data[Train_No:,:]\n",
    "\n",
    "    # Train / Test Missing Indicators\n",
    "    trainM = Missing[:Train_No,:]\n",
    "    testM = Missing[Train_No:,:]\n",
    "    \n",
    "    train_missing = trainX * trainM\n",
    "\n",
    "    return trainX,train_missing\n",
    "\n",
    "trainX,train_missing = data_load()\n",
    "\n"
   ]
  },
  {
   "cell_type": "code",
   "execution_count": 2,
   "metadata": {},
   "outputs": [],
   "source": [
    "import pandas as pd\n",
    "\n",
    "df_null = pd.DataFrame(train_missing)\n",
    "df_data = pd.DataFrame(trainX)\n",
    "df_null = df_null.replace(0, np.NaN)"
   ]
  },
  {
   "cell_type": "code",
   "execution_count": 3,
   "metadata": {},
   "outputs": [
    {
     "name": "stdout",
     "output_type": "stream",
     "text": [
      "RMSE: 0.02011063260010406\n",
      "MAE: 0.003883913168855755\n"
     ]
    }
   ],
   "source": [
    "# mice 방식\n",
    "\n",
    "from impyute.imputation.cs import mice\n",
    "np_imputed=mice(df_null.values)\n",
    "mice_imputed = pd.DataFrame(np_imputed)\n",
    "\n",
    "from sklearn.metrics import mean_absolute_error\n",
    "\n",
    "from sklearn.metrics import mean_squared_error\n",
    "\n",
    "RMSE = mean_squared_error(df_data, mice_imputed)**0.5\n",
    "\n",
    "print('RMSE: {}'.format(RMSE))\n",
    "\n",
    "MAE = mean_absolute_error(df_data, mice_imputed)\n",
    "print('MAE: {}'.format(MAE))"
   ]
  },
  {
   "cell_type": "code",
   "execution_count": null,
   "metadata": {},
   "outputs": [],
   "source": [
    "import torch.nn as nn\n",
    "x= nn.Linear(228*2, 228)"
   ]
  }
 ],
 "metadata": {
  "kernelspec": {
   "display_name": "Python 3.6.5 64-bit ('pytorch_p36': conda)",
   "language": "python",
   "name": "python365jvsc74a57bd067602bcda1a2979e98e24a2c7b4e81c48fa406727758eae6f9b97279c00e3467"
  },
  "language_info": {
   "codemirror_mode": {
    "name": "ipython",
    "version": 3
   },
   "file_extension": ".py",
   "mimetype": "text/x-python",
   "name": "python",
   "nbconvert_exporter": "python",
   "pygments_lexer": "ipython3",
   "version": "3.6.5"
  }
 },
 "nbformat": 4,
 "nbformat_minor": 2
}
