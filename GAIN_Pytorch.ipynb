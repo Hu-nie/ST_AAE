{
 "cells": [
  {
   "cell_type": "code",
   "execution_count": 73,
   "id": "b2e4c9cf",
   "metadata": {},
   "outputs": [],
   "source": [
    "#%% Packages\n",
    "import torch\n",
    "import numpy as np\n",
    "# from tqdm import tqdm\n",
    "from tqdm.notebook import tqdm_notebook as tqdm\n",
    "import torch.nn.functional as F\n",
    "import torch.nn as nn"
   ]
  },
  {
   "cell_type": "code",
   "execution_count": 74,
   "id": "853059ee",
   "metadata": {},
   "outputs": [
    {
     "data": {
      "text/plain": [
       "<torch._C.Generator at 0x1f30ceb4df8>"
      ]
     },
     "execution_count": 74,
     "metadata": {},
     "output_type": "execute_result"
    }
   ],
   "source": [
    "torch.manual_seed(1)"
   ]
  },
  {
   "cell_type": "code",
   "execution_count": 75,
   "id": "117ddbe6",
   "metadata": {},
   "outputs": [],
   "source": [
    "dataset_file = 'V_228.csv'  # 'Letter.csv' for Letter dataset an 'Spam.csv' for Spam dataset\n",
    "torch.cuda.set_device(0)"
   ]
  },
  {
   "cell_type": "code",
   "execution_count": 76,
   "id": "0708ef46",
   "metadata": {},
   "outputs": [],
   "source": [
    "#%% System Parameters\n",
    "# 1. Mini batch size\n",
    "mb_size = 128\n",
    "# 2. Missing rate\n",
    "p_miss = 0.2\n",
    "# 3. Hint rate\n",
    "p_hint = 0\n",
    "# 4. Loss Hyperparameters\n",
    "alpha = 10\n",
    "# 5. Train Rate\n",
    "train_rate = 0.8\n",
    "\n",
    "#%% Data\n",
    "\n",
    "# Data generation\n",
    "Data = np.loadtxt(dataset_file, delimiter=\",\",skiprows=1)\n",
    "\n",
    "# Parameters\n",
    "No = len(Data)\n",
    "Dim = len(Data[0,:])\n",
    "\n",
    "# Hidden state dimensions\n",
    "H_Dim1 = Dim\n",
    "H_Dim2 = Dim\n",
    "\n",
    "# Normalization (0 to 1)\n",
    "Min_Val = np.zeros(Dim)\n",
    "Max_Val = np.zeros(Dim)\n",
    "\n",
    "for i in range(Dim):\n",
    "    Min_Val[i] = np.min(Data[:,i])\n",
    "    #print(np.min(Data[:,i]))\n",
    "    Data[:,i] = Data[:,i] - np.min(Data[:,i])\n",
    "    Max_Val[i] = np.max(Data[:,i])\n",
    "    Data[:,i] = Data[:,i] / (np.max(Data[:,i]) + 1e-6)    \n",
    "    \n",
    "\n",
    "\n",
    "\n",
    "#%% Missing introducing\n",
    "p_miss_vec = p_miss * np.ones((Dim,1)) \n",
    "   \n",
    "Missing = np.zeros((No,Dim))\n",
    "\n",
    "for i in range(Dim):\n",
    "    A = np.random.uniform(0., 1., size = [len(Data),])\n",
    "    B = A > p_miss_vec[i]\n",
    "    Missing[:,i] = 1.*B\n",
    "\n",
    "    \n",
    "#%% Train Test Division    \n",
    "   \n",
    "idx = np.random.permutation(No)\n",
    "\n",
    "Train_No = int(No * train_rate)\n",
    "Test_No = No - Train_No\n",
    "    \n",
    "# Train / Test Features\n",
    "trainX = Data[idx[:Train_No],:]\n",
    "testX = Data[idx[Train_No:],:]\n",
    "\n",
    "# Train / Test Missing Indicators\n",
    "trainM = Missing[idx[:Train_No],:]\n",
    "testM = Missing[idx[Train_No:],:]\n",
    "\n",
    "    \n",
    "# Hint Vector Generation\n",
    "def sample_M(m, n, p):\n",
    "    A = np.random.uniform(0., 1., size = [m, n])\n",
    "    B = A > p\n",
    "    C = 1.*B\n",
    "    return C\n",
    "\n",
    "def xavier_init(size):\n",
    "    in_dim = size[0]\n",
    "    xavier_stddev = 1. / np.sqrt(in_dim / 2.)\n",
    "    return np.random.normal(size = size, scale = xavier_stddev)\n",
    "   "
   ]
  },
  {
   "cell_type": "code",
   "execution_count": 77,
   "id": "bba749f5",
   "metadata": {},
   "outputs": [],
   "source": [
    "class Generator(nn.Module):\n",
    "    def __init__(self):\n",
    "        super().__init__()\n",
    "        self.fc = nn.Linear(456, 228, bias=True)\n",
    "        self.fc2 = nn.Linear(228, 228, bias=True)\n",
    "        self.fc3 = nn.Linear(228, 228, bias=True)\n",
    "        self.relu = nn.ReLU(True)\n",
    "        self.sigmoid = nn.Sigmoid()\n",
    "\n",
    "    def forward(self,  New_X, M):\n",
    "        x = torch.cat(dim=1, tensors=[New_X, M])\n",
    "        x = x.float()\n",
    "        x = self.relu(self.fc(x))\n",
    "        outputs = self.relu(self.fc2(x))\n",
    "        outputs = self.relu(self.fc3(outputs))\n",
    "        return self.sigmoid(outputs)"
   ]
  },
  {
   "cell_type": "code",
   "execution_count": 78,
   "id": "3dcbfe3f",
   "metadata": {},
   "outputs": [],
   "source": [
    "class Discriminator(nn.Module):\n",
    "    def __init__(self):\n",
    "        super().__init__()\n",
    "        self.fc = nn.Linear(456, 228, bias=True)\n",
    "        self.fc2 = nn.Linear(228, 228, bias=True)\n",
    "        self.fc3 = nn.Linear(228, 228, bias=True)\n",
    "        self.relu = nn.ReLU(True)\n",
    "        self.sigmoid = nn.Sigmoid()\n",
    "\n",
    "    def forward(self,New_X, H):\n",
    "        x = torch.cat(dim=1, tensors=[New_X, H])\n",
    "        x = x.float()\n",
    "        x = self.relu(self.fc(x))\n",
    "        outputs = self.relu(self.fc2(x))\n",
    "        outputs = self.relu(self.fc3(outputs))\n",
    "        return self.sigmoid(outputs)"
   ]
  },
  {
   "cell_type": "code",
   "execution_count": 79,
   "id": "a5117da2",
   "metadata": {},
   "outputs": [],
   "source": [
    "def sample_Z(m, n):\n",
    "    return np.random.uniform(0., 0.01, size = [m, n])        \n",
    "\n",
    "# Mini-batch generation\n",
    "def sample_idx(m, n):\n",
    "    A = np.random.permutation(m)\n",
    "    idx = A[:n]\n",
    "    return idx"
   ]
  },
  {
   "cell_type": "code",
   "execution_count": 80,
   "id": "c195e81a",
   "metadata": {},
   "outputs": [],
   "source": [
    "generator = Generator()\n",
    "discriminator = Discriminator()"
   ]
  },
  {
   "cell_type": "code",
   "execution_count": 81,
   "id": "9c9b7904",
   "metadata": {},
   "outputs": [],
   "source": [
    "def discriminator_loss(M, New_X, H):\n",
    "    # Combine with original data\n",
    "    G_sample = generator(New_X,M)\n",
    "    \n",
    "    Hat_New_X = New_X * M + G_sample * (1-M)\n",
    "\n",
    "    # Discriminator\n",
    "    D_prob = discriminator(Hat_New_X, H)\n",
    "\n",
    "    #%% Loss\n",
    "    D_loss = -torch.mean(M * torch.log(D_prob + 1e-8) + (1-M) * torch.log(1. - D_prob + 1e-8))\n",
    "    return D_loss\n",
    "\n",
    "def generator_loss(X, M, New_X, H):\n",
    "    #%% Structure\n",
    "    # Generator\n",
    "    G_sample = generator(New_X,M)\n",
    "\n",
    "    # Combine with original data\n",
    "    Hat_New_X = New_X * M + G_sample * (1-M)\n",
    "\n",
    "    # Discriminator\n",
    "    D_prob = discriminator(Hat_New_X, H)\n",
    "\n",
    "    #%% Loss\n",
    "    G_loss1 = -torch.mean((1-M) * torch.log(D_prob + 1e-8))\n",
    "    MSE_train_loss = torch.mean((M * New_X - M * G_sample)**2) / torch.mean(M)\n",
    "\n",
    "    G_loss = G_loss1 + alpha * MSE_train_loss \n",
    "\n",
    "    #%% MSE Performance metric\n",
    "    MSE_test_loss = torch.mean(((1-M) * X - (1-M)*G_sample)**2) / torch.mean(1-M)\n",
    "    return G_loss, MSE_train_loss, MSE_test_loss\n",
    "    \n",
    "def test_loss(X, M, New_X):\n",
    "    #%% Structure\n",
    "    # Generator\n",
    "    G_sample = generator(New_X,M)\n",
    "\n",
    "    #%% MSE Performance metric\n",
    "    MSE_test_loss = torch.mean(((1-M) * X - (1-M)*G_sample)**2) / torch.mean(1-M)\n",
    "    return MSE_test_loss, G_sample"
   ]
  },
  {
   "cell_type": "code",
   "execution_count": 82,
   "id": "b53cdfcf",
   "metadata": {},
   "outputs": [],
   "source": [
    "optimizer_D = torch.optim.Adam(params=generator.parameters(), lr = 1)\n",
    "optimizer_G = torch.optim.Adam(params=discriminator.parameters(), lr = 1)"
   ]
  },
  {
   "cell_type": "code",
   "execution_count": 83,
   "id": "3715fec5",
   "metadata": {},
   "outputs": [
    {
     "name": "stderr",
     "output_type": "stream",
     "text": [
      "C:\\Users\\hoon\\anaconda3\\envs\\torch\\lib\\site-packages\\ipykernel_launcher.py:3: UserWarning: nn.init.xavier_uniform is now deprecated in favor of nn.init.xavier_uniform_.\n",
      "  This is separate from the ipykernel package so we can avoid doing imports until\n"
     ]
    },
    {
     "data": {
      "text/plain": [
       "Discriminator(\n",
       "  (fc): Linear(in_features=456, out_features=228, bias=True)\n",
       "  (fc2): Linear(in_features=228, out_features=228, bias=True)\n",
       "  (fc3): Linear(in_features=228, out_features=228, bias=True)\n",
       "  (relu): ReLU(inplace=True)\n",
       "  (sigmoid): Sigmoid()\n",
       ")"
      ]
     },
     "execution_count": 83,
     "metadata": {},
     "output_type": "execute_result"
    }
   ],
   "source": [
    " def init_weights(m):\n",
    "    if type(m) == nn.Linear:\n",
    "        torch.nn.init.xavier_uniform(m.weight)\n",
    "        m.bias.data.fill_(0.01)\n",
    "\n",
    "generator.apply(init_weights)\n",
    "    \n",
    "discriminator.apply(init_weights)\n",
    "    "
   ]
  },
  {
   "cell_type": "code",
   "execution_count": 84,
   "id": "a33bf698",
   "metadata": {},
   "outputs": [
    {
     "data": {
      "application/vnd.jupyter.widget-view+json": {
       "model_id": "a9f5337832db47a088c34e8642a3fa8d",
       "version_major": 2,
       "version_minor": 0
      },
      "text/plain": [
       "  0%|          | 0/5000 [00:00<?, ?it/s]"
      ]
     },
     "metadata": {},
     "output_type": "display_data"
    },
    {
     "name": "stdout",
     "output_type": "stream",
     "text": [
      "Iter: 0\tTrain_loss: 0.3209\tTest_loss: 0.3182\n",
      "Iter: 100\tTrain_loss: 0.3266\tTest_loss: 0.3287\n",
      "Iter: 200\tTrain_loss: 0.3328\tTest_loss: 0.3317\n",
      "Iter: 300\tTrain_loss: 0.335\tTest_loss: 0.3356\n",
      "Iter: 400\tTrain_loss: 0.3326\tTest_loss: 0.3273\n",
      "Iter: 500\tTrain_loss: 0.3211\tTest_loss: 0.3235\n",
      "Iter: 600\tTrain_loss: 0.3243\tTest_loss: 0.3247\n",
      "Iter: 700\tTrain_loss: 0.3292\tTest_loss: 0.3307\n",
      "Iter: 800\tTrain_loss: 0.3284\tTest_loss: 0.3251\n",
      "Iter: 900\tTrain_loss: 0.3369\tTest_loss: 0.3351\n",
      "Iter: 1000\tTrain_loss: 0.3232\tTest_loss: 0.3191\n",
      "Iter: 1100\tTrain_loss: 0.3281\tTest_loss: 0.3314\n",
      "Iter: 1200\tTrain_loss: 0.3302\tTest_loss: 0.3285\n",
      "Iter: 1300\tTrain_loss: 0.3142\tTest_loss: 0.3119\n",
      "Iter: 1400\tTrain_loss: 0.343\tTest_loss: 0.3443\n",
      "Iter: 1500\tTrain_loss: 0.3276\tTest_loss: 0.329\n",
      "Iter: 1600\tTrain_loss: 0.3258\tTest_loss: 0.3269\n",
      "Iter: 1700\tTrain_loss: 0.3362\tTest_loss: 0.3388\n",
      "Iter: 1800\tTrain_loss: 0.3317\tTest_loss: 0.3329\n",
      "Iter: 1900\tTrain_loss: 0.3282\tTest_loss: 0.3289\n",
      "Iter: 2000\tTrain_loss: 0.3365\tTest_loss: 0.3398\n",
      "Iter: 2100\tTrain_loss: 0.3335\tTest_loss: 0.3326\n",
      "Iter: 2200\tTrain_loss: 0.3379\tTest_loss: 0.3432\n",
      "Iter: 2300\tTrain_loss: 0.3257\tTest_loss: 0.3323\n",
      "Iter: 2400\tTrain_loss: 0.3272\tTest_loss: 0.3289\n",
      "Iter: 2500\tTrain_loss: 0.3313\tTest_loss: 0.3305\n",
      "Iter: 2600\tTrain_loss: 0.3288\tTest_loss: 0.3257\n",
      "Iter: 2700\tTrain_loss: 0.3256\tTest_loss: 0.3229\n",
      "Iter: 2800\tTrain_loss: 0.3245\tTest_loss: 0.3256\n",
      "Iter: 2900\tTrain_loss: 0.3275\tTest_loss: 0.3301\n",
      "Iter: 3000\tTrain_loss: 0.3294\tTest_loss: 0.3257\n",
      "Iter: 3100\tTrain_loss: 0.3412\tTest_loss: 0.3339\n",
      "Iter: 3200\tTrain_loss: 0.3282\tTest_loss: 0.3246\n",
      "Iter: 3300\tTrain_loss: 0.3277\tTest_loss: 0.3299\n",
      "Iter: 3400\tTrain_loss: 0.3291\tTest_loss: 0.3309\n",
      "Iter: 3500\tTrain_loss: 0.3272\tTest_loss: 0.3263\n",
      "Iter: 3600\tTrain_loss: 0.3286\tTest_loss: 0.3326\n",
      "Iter: 3700\tTrain_loss: 0.3325\tTest_loss: 0.3311\n",
      "Iter: 3800\tTrain_loss: 0.3291\tTest_loss: 0.3315\n",
      "Iter: 3900\tTrain_loss: 0.3272\tTest_loss: 0.3206\n",
      "Iter: 4000\tTrain_loss: 0.3233\tTest_loss: 0.3229\n",
      "Iter: 4100\tTrain_loss: 0.33\tTest_loss: 0.3311\n",
      "Iter: 4200\tTrain_loss: 0.326\tTest_loss: 0.3281\n",
      "Iter: 4300\tTrain_loss: 0.3236\tTest_loss: 0.3252\n",
      "Iter: 4400\tTrain_loss: 0.333\tTest_loss: 0.3307\n",
      "Iter: 4500\tTrain_loss: 0.3274\tTest_loss: 0.3304\n",
      "Iter: 4600\tTrain_loss: 0.3301\tTest_loss: 0.3348\n",
      "Iter: 4700\tTrain_loss: 0.3299\tTest_loss: 0.3285\n",
      "Iter: 4800\tTrain_loss: 0.3325\tTest_loss: 0.3322\n",
      "Iter: 4900\tTrain_loss: 0.326\tTest_loss: 0.3237\n"
     ]
    }
   ],
   "source": [
    "#%% Start Iterations\n",
    "for it in tqdm(range(5000)):    \n",
    "    \n",
    "    #%% Inputs\n",
    "    mb_idx = sample_idx(Train_No, mb_size)\n",
    "    X_mb = trainX[mb_idx,:]  \n",
    "    \n",
    "    Z_mb = sample_Z(mb_size, Dim) \n",
    "    M_mb = trainM[mb_idx,:]  \n",
    "    H_mb1 = sample_M(mb_size, Dim, 1-p_hint)\n",
    "    H_mb = M_mb * H_mb1\n",
    "    \n",
    "    New_X_mb = M_mb * X_mb + (1-M_mb) * Z_mb  # Missing Data Introduce\n",
    "    \n",
    "\n",
    "    X_mb = torch.tensor(X_mb)\n",
    "    M_mb = torch.tensor(M_mb)\n",
    "    H_mb = torch.tensor(H_mb)\n",
    "    New_X_mb = torch.tensor(New_X_mb)\n",
    "    \n",
    "    \n",
    "    optimizer_D.zero_grad()\n",
    "    D_loss_curr = discriminator_loss(M=M_mb, New_X=New_X_mb, H=H_mb)\n",
    "    D_loss_curr.backward()\n",
    "    optimizer_D.step()\n",
    " \n",
    "    optimizer_G.zero_grad()\n",
    "    #print(M_mb.shape)\n",
    "    G_loss_curr, MSE_train_loss_curr, MSE_test_loss_curr = generator_loss(X=X_mb, M=M_mb, New_X=New_X_mb, H=H_mb)\n",
    "    G_loss_curr.backward()\n",
    "    optimizer_G.step()    \n",
    "        \n",
    "    #%% Intermediate Losses\n",
    "    if it % 100 == 0:\n",
    "        print('Iter: {}'.format(it),end='\\t')\n",
    "        print('Train_loss: {:.4}'.format(np.sqrt(MSE_train_loss_curr.item())),end='\\t')\n",
    "        print('Test_loss: {:.4}'.format(np.sqrt(MSE_test_loss_curr.item())))"
   ]
  },
  {
   "cell_type": "code",
   "execution_count": 18,
   "id": "f197d0f4",
   "metadata": {},
   "outputs": [
    {
     "name": "stdout",
     "output_type": "stream",
     "text": [
      "Final Test RMSE: 0.29478107940255177\n"
     ]
    }
   ],
   "source": [
    "Z_mb = sample_Z(Test_No, Dim) \n",
    "M_mb = testM\n",
    "X_mb = testX\n",
    "        \n",
    "New_X_mb = M_mb * X_mb + (1-M_mb) * Z_mb  # Missing Data Introduce\n",
    "\n",
    "X_mb = torch.tensor(X_mb)\n",
    "M_mb = torch.tensor(M_mb)\n",
    "New_X_mb = torch.tensor(New_X_mb)\n",
    "\n",
    "    \n",
    "MSE_final, Sample = test_loss(X=X_mb, M=M_mb, New_X=New_X_mb)\n",
    "        \n",
    "print('Final Test RMSE: ' + str(np.sqrt(MSE_final.item())))"
   ]
  },
  {
   "cell_type": "code",
   "execution_count": 20,
   "id": "ac62d200",
   "metadata": {},
   "outputs": [
    {
     "name": "stdout",
     "output_type": "stream",
     "text": [
      "Imputed test data:\n",
      "[[0.85438143 0.50000000 0.70190895 ... 0.90425531 0.88837208 0.88807068]\n",
      " [0.24355670 0.50000000 0.50000000 ... 0.84650455 0.67888200 0.71428570]\n",
      " [0.28608247 0.14285714 0.86196768 ... 0.79787233 0.62875843 0.74521354]\n",
      " ...\n",
      " [0.26675257 0.85583223 0.48751835 ... 0.56231002 0.12248062 0.61568606]\n",
      " [0.31185567 0.50000000 0.47136563 ... 0.50000000 0.75968991 0.57743853]\n",
      " [0.69855952 0.85714285 0.50000000 ... 0.98024315 0.89922479 0.63554758]]\n"
     ]
    }
   ],
   "source": [
    "imputed_data = M_mb * X_mb + (1-M_mb) * Sample\n",
    "print(\"Imputed test data:\")\n",
    "np.set_printoptions(formatter={'float': lambda x: \"{0:0.8f}\".format(x)})\n",
    "print(imputed_data.detach().numpy())\n"
   ]
  },
  {
   "cell_type": "code",
   "execution_count": 21,
   "id": "c57a54bc",
   "metadata": {},
   "outputs": [
    {
     "name": "stdout",
     "output_type": "stream",
     "text": [
      "[[69.60000000 43.15000050 60.10000000 ... 67.80000000 67.00000000\n",
      "  68.10000000]\n",
      " [22.20000000 43.15000050 46.35000050 ... 64.00000000 53.48788986\n",
      "  56.30000000]\n",
      " [25.50000000 15.90000000 71.00000000 ... 60.80000000 50.25491939\n",
      "  58.40000000]\n",
      " ...\n",
      " [24.00000000 70.30000000 45.50000000 ... 45.30000000 17.60000000\n",
      "  49.60508402]\n",
      " [27.50000000 43.15000050 44.40000000 ... 41.20000050 58.70000000\n",
      "  47.00807699]\n",
      " [57.50821965 70.40000000 46.35000050 ... 72.80000000 67.70000000\n",
      "  50.95368120]]\n"
     ]
    }
   ],
   "source": [
    "# Normalization (0 to 1)\n",
    "renomal = imputed_data \n",
    "\n",
    "for i in range(Dim):\n",
    "    renomal[:,i] = renomal[:,i]* (Max_Val[i]+1e-6)\n",
    "    renomal[:,i] = renomal[:,i]+ Min_Val[i]\n",
    "    \n",
    "print(renomal.cpu().detach().numpy())"
   ]
  },
  {
   "cell_type": "code",
   "execution_count": null,
   "id": "c5d0427f",
   "metadata": {},
   "outputs": [],
   "source": []
  }
 ],
 "metadata": {
  "kernelspec": {
   "display_name": "torch1",
   "language": "python",
   "name": "torch"
  },
  "language_info": {
   "codemirror_mode": {
    "name": "ipython",
    "version": 3
   },
   "file_extension": ".py",
   "mimetype": "text/x-python",
   "name": "python",
   "nbconvert_exporter": "python",
   "pygments_lexer": "ipython3",
   "version": "3.6.13"
  }
 },
 "nbformat": 4,
 "nbformat_minor": 5
}
