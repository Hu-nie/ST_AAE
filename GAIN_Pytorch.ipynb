{
 "cells": [
  {
   "cell_type": "code",
   "execution_count": 1,
   "metadata": {},
   "outputs": [],
   "source": [
    "#%% Packages\n",
    "import torch\n",
    "import numpy as np\n",
    "# from tqdm import tqdm\n",
    "from tqdm.notebook import tqdm_notebook as tqdm\n",
    "import torch.nn.functional as F\n",
    "import torch.nn as nn"
   ]
  },
  {
   "cell_type": "code",
   "execution_count": 2,
   "metadata": {},
   "outputs": [
    {
     "data": {
      "text/plain": [
       "<torch._C.Generator at 0x7f17501ef970>"
      ]
     },
     "execution_count": 2,
     "metadata": {},
     "output_type": "execute_result"
    }
   ],
   "source": [
    "torch.manual_seed(1)"
   ]
  },
  {
   "cell_type": "code",
   "execution_count": 13,
   "metadata": {},
   "outputs": [],
   "source": [
    "dataset_file = 'data/V_228.csv'  # 'Letter.csv' for Letter dataset an 'Spam.csv' for Spam dataset\n",
    "torch.cuda.set_device(0)"
   ]
  },
  {
   "cell_type": "code",
   "execution_count": 14,
   "metadata": {},
   "outputs": [],
   "source": [
    "#%% System Parameters\n",
    "# 1. Mini batch size\n",
    "mb_size = 128\n",
    "# 2. Missing rate\n",
    "p_miss = 0.2\n",
    "# 3. Hint rate\n",
    "p_hint = 0\n",
    "# 4. Loss Hyperparameters\n",
    "alpha = 10\n",
    "# 5. Train Rate\n",
    "train_rate = 0.8\n",
    "\n",
    "#%% Data\n",
    "\n",
    "# Data generation\n",
    "Data = np.loadtxt(dataset_file, delimiter=\",\",skiprows=1)\n",
    "\n",
    "# Parameters\n",
    "No = len(Data)\n",
    "Dim = len(Data[0,:])\n",
    "\n",
    "# Hidden state dimensions\n",
    "H_Dim1 = Dim\n",
    "H_Dim2 = Dim\n",
    "\n",
    "# Normalization (0 to 1)\n",
    "Min_Val = np.zeros(Dim)\n",
    "Max_Val = np.zeros(Dim)\n",
    "\n",
    "for i in range(Dim):\n",
    "    Min_Val[i] = np.min(Data[:,i])\n",
    "    #print(np.min(Data[:,i]))\n",
    "    Data[:,i] = Data[:,i] - np.min(Data[:,i])\n",
    "    Max_Val[i] = np.max(Data[:,i])\n",
    "    Data[:,i] = Data[:,i] / (np.max(Data[:,i]) + 1e-6)    \n",
    "    \n",
    "\n",
    "\n",
    "\n",
    "#%% Missing introducing\n",
    "p_miss_vec = p_miss * np.ones((Dim,1)) \n",
    "   \n",
    "Missing = np.zeros((No,Dim))\n",
    "\n",
    "for i in range(Dim):\n",
    "    A = np.random.uniform(0., 1., size = [len(Data),])\n",
    "    B = A > p_miss_vec[i]\n",
    "    Missing[:,i] = 1.*B\n",
    "\n",
    "    \n",
    "#%% Train Test Division    \n",
    "   \n",
    "idx = np.random.permutation(No)\n",
    "\n",
    "Train_No = int(No * train_rate)\n",
    "Test_No = No - Train_No\n",
    "    \n",
    "# Train / Test Features\n",
    "trainX = Data[idx[:Train_No],:]\n",
    "testX = Data[idx[Train_No:],:]\n",
    "\n",
    "# Train / Test Missing Indicators\n",
    "trainM = Missing[idx[:Train_No],:]\n",
    "testM = Missing[idx[Train_No:],:]\n",
    "\n",
    "    \n",
    "# Hint Vector Generation\n",
    "def sample_M(m, n, p):\n",
    "    A = np.random.uniform(0., 1., size = [m, n])\n",
    "    B = A > p\n",
    "    C = 1.*B\n",
    "    return C\n",
    "\n",
    "def xavier_init(size):\n",
    "    in_dim = size[0]\n",
    "    xavier_stddev = 1. / np.sqrt(in_dim / 2.)\n",
    "    return np.random.normal(size = size, scale = xavier_stddev)\n",
    "   "
   ]
  },
  {
   "cell_type": "code",
   "execution_count": 15,
   "metadata": {},
   "outputs": [],
   "source": [
    "class Generator(nn.Module):\n",
    "    def __init__(self):\n",
    "        super().__init__()\n",
    "        self.fc = nn.Linear(456, 228, bias=True)\n",
    "        self.fc2 = nn.Linear(228, 228, bias=True)\n",
    "        self.fc3 = nn.Linear(228, 228, bias=True)\n",
    "        self.relu = nn.ReLU(True)\n",
    "        self.sigmoid = nn.Sigmoid()\n",
    "\n",
    "    def forward(self,  New_X, M):\n",
    "        x = torch.cat(dim=1, tensors=[New_X, M])\n",
    "        x = x.float()\n",
    "        x = self.relu(self.fc(x))\n",
    "        outputs = self.relu(self.fc2(x))\n",
    "        outputs = self.relu(self.fc3(outputs))\n",
    "        return self.sigmoid(outputs)"
   ]
  },
  {
   "cell_type": "code",
   "execution_count": 16,
   "metadata": {},
   "outputs": [],
   "source": [
    "class Discriminator(nn.Module):\n",
    "    def __init__(self):\n",
    "        super().__init__()\n",
    "        self.fc = nn.Linear(456, 228, bias=True)\n",
    "        self.fc2 = nn.Linear(228, 228, bias=True)\n",
    "        self.fc3 = nn.Linear(228, 228, bias=True)\n",
    "        self.relu = nn.ReLU(True)\n",
    "        self.sigmoid = nn.Sigmoid()\n",
    "\n",
    "    def forward(self,New_X, H):\n",
    "        x = torch.cat(dim=1, tensors=[New_X, H])\n",
    "        x = x.float()\n",
    "        x = self.relu(self.fc(x))\n",
    "        outputs = self.relu(self.fc2(x))\n",
    "        outputs = self.relu(self.fc3(outputs))\n",
    "        return self.sigmoid(outputs)"
   ]
  },
  {
   "cell_type": "code",
   "execution_count": 17,
   "metadata": {},
   "outputs": [],
   "source": [
    "def sample_Z(m, n):\n",
    "    return np.random.uniform(0., 0.01, size = [m, n])        \n",
    "\n",
    "# Mini-batch generation\n",
    "def sample_idx(m, n):\n",
    "    A = np.random.permutation(m)\n",
    "    idx = A[:n]\n",
    "    return idx"
   ]
  },
  {
   "cell_type": "code",
   "execution_count": 18,
   "metadata": {},
   "outputs": [],
   "source": [
    "generator = Generator()\n",
    "discriminator = Discriminator()"
   ]
  },
  {
   "cell_type": "code",
   "execution_count": 19,
   "metadata": {},
   "outputs": [],
   "source": [
    "def discriminator_loss(M, New_X, H):\n",
    "    # Combine with original data\n",
    "    G_sample = generator(New_X,M)\n",
    "    \n",
    "    Hat_New_X = New_X * M + G_sample * (1-M)\n",
    "\n",
    "    # Discriminator\n",
    "    D_prob = discriminator(Hat_New_X, H)\n",
    "\n",
    "    #%% Loss\n",
    "    D_loss = -torch.mean(M * torch.log(D_prob + 1e-8) + (1-M) * torch.log(1. - D_prob + 1e-8))\n",
    "    return D_loss\n",
    "\n",
    "def generator_loss(X, M, New_X, H):\n",
    "    #%% Structure\n",
    "    # Generator\n",
    "    G_sample = generator(New_X,M)\n",
    "\n",
    "    # Combine with original data\n",
    "    Hat_New_X = New_X * M + G_sample * (1-M)\n",
    "\n",
    "    # Discriminator\n",
    "    D_prob = discriminator(Hat_New_X, H)\n",
    "\n",
    "    #%% Loss\n",
    "    G_loss1 = -torch.mean((1-M) * torch.log(D_prob + 1e-8))\n",
    "    MSE_train_loss = torch.mean((M * New_X - M * G_sample)**2) / torch.mean(M)\n",
    "\n",
    "    G_loss = G_loss1 + alpha * MSE_train_loss \n",
    "\n",
    "    #%% MSE Performance metric\n",
    "    MSE_test_loss = torch.mean(((1-M) * X - (1-M)*G_sample)**2) / torch.mean(1-M)\n",
    "    return G_loss, MSE_train_loss, MSE_test_loss\n",
    "    \n",
    "def test_loss(X, M, New_X):\n",
    "    #%% Structure\n",
    "    # Generator\n",
    "    G_sample = generator(New_X,M)\n",
    "\n",
    "    #%% MSE Performance metric\n",
    "    MSE_test_loss = torch.mean(((1-M) * X - (1-M)*G_sample)**2) / torch.mean(1-M)\n",
    "    return MSE_test_loss, G_sample"
   ]
  },
  {
   "cell_type": "code",
   "execution_count": 20,
   "metadata": {},
   "outputs": [],
   "source": [
    "optimizer_D = torch.optim.Adam(params=generator.parameters(), lr = 1)\n",
    "optimizer_G = torch.optim.Adam(params=discriminator.parameters(), lr = 1)"
   ]
  },
  {
   "cell_type": "code",
   "execution_count": 21,
   "metadata": {},
   "outputs": [
    {
     "name": "stderr",
     "output_type": "stream",
     "text": [
      "/home/ubuntu/anaconda3/envs/pytorch_p36/lib/python3.6/site-packages/ipykernel/__main__.py:3: UserWarning: nn.init.xavier_uniform is now deprecated in favor of nn.init.xavier_uniform_.\n",
      "  app.launch_new_instance()\n"
     ]
    },
    {
     "data": {
      "text/plain": [
       "Discriminator(\n",
       "  (fc): Linear(in_features=456, out_features=228, bias=True)\n",
       "  (fc2): Linear(in_features=228, out_features=228, bias=True)\n",
       "  (fc3): Linear(in_features=228, out_features=228, bias=True)\n",
       "  (relu): ReLU(inplace=True)\n",
       "  (sigmoid): Sigmoid()\n",
       ")"
      ]
     },
     "execution_count": 21,
     "metadata": {},
     "output_type": "execute_result"
    }
   ],
   "source": [
    " def init_weights(m):\n",
    "    if type(m) == nn.Linear:\n",
    "        torch.nn.init.xavier_uniform(m.weight)\n",
    "        m.bias.data.fill_(0.01)\n",
    "\n",
    "generator.apply(init_weights)\n",
    "    \n",
    "discriminator.apply(init_weights)\n",
    "    "
   ]
  },
  {
   "cell_type": "code",
   "execution_count": null,
   "metadata": {},
   "outputs": [
    {
     "data": {
      "application/vnd.jupyter.widget-view+json": {
       "model_id": "9084d14eaedc473f9993f7ccfbb3382b",
       "version_major": 2,
       "version_minor": 0
      },
      "text/plain": [
       "HBox(children=(FloatProgress(value=0.0, max=5000.0), HTML(value='')))"
      ]
     },
     "metadata": {},
     "output_type": "display_data"
    },
    {
     "name": "stdout",
     "output_type": "stream",
     "text": [
      "Iter: 0\tTrain_loss: 0.3257\tTest_loss: 0.3264\tG_loss: 1.097\tD_loss: 2.932\n",
      "Iter: 100\tTrain_loss: 0.3214\tTest_loss: 0.3178\tG_loss: 1.07\tD_loss: 2.97\n",
      "Iter: 200\tTrain_loss: 0.3233\tTest_loss: 0.3198\tG_loss: 1.082\tD_loss: 2.867\n",
      "Iter: 300\tTrain_loss: 0.3268\tTest_loss: 0.3244\tG_loss: 1.104\tD_loss: 2.954\n",
      "Iter: 400\tTrain_loss: 0.3203\tTest_loss: 0.319\tG_loss: 1.062\tD_loss: 2.881\n",
      "Iter: 500\tTrain_loss: 0.3292\tTest_loss: 0.3279\tG_loss: 1.121\tD_loss: 2.928\n",
      "Iter: 600\tTrain_loss: 0.324\tTest_loss: 0.3268\tG_loss: 1.085\tD_loss: 2.917\n",
      "Iter: 700\tTrain_loss: 0.319\tTest_loss: 0.3194\tG_loss: 1.054\tD_loss: 2.89\n",
      "Iter: 800\tTrain_loss: 0.3241\tTest_loss: 0.3218\tG_loss: 1.086\tD_loss: 2.884\n",
      "Iter: 900\tTrain_loss: 0.331\tTest_loss: 0.3299\tG_loss: 1.131\tD_loss: 2.982\n",
      "Iter: 1000\tTrain_loss: 0.3164\tTest_loss: 0.3186\tG_loss: 1.037\tD_loss: 2.917\n",
      "Iter: 1100\tTrain_loss: 0.3325\tTest_loss: 0.3373\tG_loss: 1.141\tD_loss: 2.878\n",
      "Iter: 1200\tTrain_loss: 0.3258\tTest_loss: 0.323\tG_loss: 1.097\tD_loss: 2.95\n",
      "Iter: 1300\tTrain_loss: 0.3318\tTest_loss: 0.334\tG_loss: 1.138\tD_loss: 2.923\n",
      "Iter: 1400\tTrain_loss: 0.3234\tTest_loss: 0.3226\tG_loss: 1.083\tD_loss: 2.871\n",
      "Iter: 1500\tTrain_loss: 0.3294\tTest_loss: 0.3286\tG_loss: 1.12\tD_loss: 2.937\n",
      "Iter: 1600\tTrain_loss: 0.3327\tTest_loss: 0.3242\tG_loss: 1.143\tD_loss: 2.908\n",
      "Iter: 1700\tTrain_loss: 0.3236\tTest_loss: 0.318\tG_loss: 1.084\tD_loss: 2.887\n",
      "Iter: 1800\tTrain_loss: 0.3312\tTest_loss: 0.332\tG_loss: 1.132\tD_loss: 2.919\n"
     ]
    }
   ],
   "source": [
    "#%% Start Iterations\n",
    "for it in tqdm(range(5000)):    \n",
    "    \n",
    "    #%% Inputs\n",
    "    mb_idx = sample_idx(Train_No, mb_size)\n",
    "    X_mb = trainX[mb_idx,:]  \n",
    "    \n",
    "    Z_mb = sample_Z(mb_size, Dim) \n",
    "    M_mb = trainM[mb_idx,:]  \n",
    "    H_mb1 = sample_M(mb_size, Dim, 1-p_hint)\n",
    "    H_mb = M_mb * H_mb1\n",
    "    \n",
    "    New_X_mb = M_mb * X_mb + (1-M_mb) * Z_mb  # Missing Data Introduce\n",
    "    \n",
    "\n",
    "    X_mb = torch.tensor(X_mb)\n",
    "    M_mb = torch.tensor(M_mb)\n",
    "    H_mb = torch.tensor(H_mb)\n",
    "    New_X_mb = torch.tensor(New_X_mb)\n",
    "    \n",
    "    \n",
    "    optimizer_D.zero_grad()\n",
    "    D_loss_curr = discriminator_loss(M=M_mb, New_X=New_X_mb, H=H_mb)\n",
    "    D_loss_curr.backward()\n",
    "    optimizer_D.step()\n",
    " \n",
    "    optimizer_G.zero_grad()\n",
    "    #print(M_mb.shape)\n",
    "    G_loss_curr, MSE_train_loss_curr, MSE_test_loss_curr = generator_loss(X=X_mb, M=M_mb, New_X=New_X_mb, H=H_mb)\n",
    "    G_loss_curr.backward()\n",
    "    optimizer_G.step()    \n",
    "        \n",
    "    #%% Intermediate Losses\n",
    "    if it % 100 == 0:\n",
    "        print('Iter: {}'.format(it),end='\\t')\n",
    "        print('Train_loss: {:.4}'.format(np.sqrt(MSE_train_loss_curr.item())),end='\\t')\n",
    "        print('Test_loss: {:.4}'.format(np.sqrt(MSE_test_loss_curr.item())),end='\\t')\n",
    "        print('G_loss: {:.4}'.format(G_loss_curr),end='\\t')\n",
    "        print('D_loss: {:.4}'.format(D_loss_curr))"
   ]
  },
  {
   "cell_type": "code",
   "execution_count": 23,
   "metadata": {},
   "outputs": [
    {
     "name": "stdout",
     "output_type": "stream",
     "text": [
      "Final Test RMSE: 0.3261572680350175\n"
     ]
    }
   ],
   "source": [
    "Z_mb = sample_Z(Test_No, Dim) \n",
    "M_mb = testM\n",
    "X_mb = testX\n",
    "        \n",
    "New_X_mb = M_mb * X_mb + (1-M_mb) * Z_mb  # Missing Data Introduce\n",
    "\n",
    "X_mb = torch.tensor(X_mb)\n",
    "M_mb = torch.tensor(M_mb)\n",
    "New_X_mb = torch.tensor(New_X_mb)\n",
    "\n",
    "    \n",
    "MSE_final, Sample = test_loss(X=X_mb, M=M_mb, New_X=New_X_mb)\n",
    "        \n",
    "print('Final Test RMSE: ' + str(np.sqrt(MSE_final.item())))"
   ]
  },
  {
   "cell_type": "code",
   "execution_count": 20,
   "metadata": {},
   "outputs": [
    {
     "name": "stdout",
     "output_type": "stream",
     "text": [
      "Imputed test data:\n",
      "[[0.85438143 0.50000000 0.70190895 ... 0.90425531 0.88837208 0.88807068]\n",
      " [0.24355670 0.50000000 0.50000000 ... 0.84650455 0.67888200 0.71428570]\n",
      " [0.28608247 0.14285714 0.86196768 ... 0.79787233 0.62875843 0.74521354]\n",
      " ...\n",
      " [0.26675257 0.85583223 0.48751835 ... 0.56231002 0.12248062 0.61568606]\n",
      " [0.31185567 0.50000000 0.47136563 ... 0.50000000 0.75968991 0.57743853]\n",
      " [0.69855952 0.85714285 0.50000000 ... 0.98024315 0.89922479 0.63554758]]\n"
     ]
    }
   ],
   "source": [
    "imputed_data = M_mb * X_mb + (1-M_mb) * Sample\n",
    "print(\"Imputed test data:\")\n",
    "np.set_printoptions(formatter={'float': lambda x: \"{0:0.8f}\".format(x)})\n",
    "print(imputed_data.detach().numpy())\n"
   ]
  },
  {
   "cell_type": "code",
   "execution_count": 21,
   "metadata": {},
   "outputs": [
    {
     "name": "stdout",
     "output_type": "stream",
     "text": [
      "[[69.60000000 43.15000050 60.10000000 ... 67.80000000 67.00000000\n",
      "  68.10000000]\n",
      " [22.20000000 43.15000050 46.35000050 ... 64.00000000 53.48788986\n",
      "  56.30000000]\n",
      " [25.50000000 15.90000000 71.00000000 ... 60.80000000 50.25491939\n",
      "  58.40000000]\n",
      " ...\n",
      " [24.00000000 70.30000000 45.50000000 ... 45.30000000 17.60000000\n",
      "  49.60508402]\n",
      " [27.50000000 43.15000050 44.40000000 ... 41.20000050 58.70000000\n",
      "  47.00807699]\n",
      " [57.50821965 70.40000000 46.35000050 ... 72.80000000 67.70000000\n",
      "  50.95368120]]\n"
     ]
    }
   ],
   "source": [
    "# Normalization (0 to 1)\n",
    "renomal = imputed_data \n",
    "\n",
    "for i in range(Dim):\n",
    "    renomal[:,i] = renomal[:,i]* (Max_Val[i]+1e-6)\n",
    "    renomal[:,i] = renomal[:,i]+ Min_Val[i]\n",
    "    \n",
    "print(renomal.cpu().detach().numpy())"
   ]
  },
  {
   "cell_type": "code",
   "execution_count": null,
   "metadata": {},
   "outputs": [],
   "source": []
  }
 ],
 "metadata": {
  "kernelspec": {
   "display_name": "Environment (conda_pytorch_p36)",
   "language": "python",
   "name": "conda_pytorch_p36"
  },
  "language_info": {
   "codemirror_mode": {
    "name": "ipython",
    "version": 3
   },
   "file_extension": ".py",
   "mimetype": "text/x-python",
   "name": "python",
   "nbconvert_exporter": "python",
   "pygments_lexer": "ipython3",
   "version": "3.6.5"
  }
 },
 "nbformat": 4,
 "nbformat_minor": 5
}
